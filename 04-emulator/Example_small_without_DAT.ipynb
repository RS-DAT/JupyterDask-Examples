{
 "cells": [
  {
   "cell_type": "markdown",
   "id": "92b49214-0f60-433c-a4b3-35d323a85f5c",
   "metadata": {},
   "source": [
    "# Running Machine Learning tasks with DAT (Deployable Analysis environmenT) \n",
    "\n",
    "Problem at hand:\n",
    "Train a Machine Learning model on sparse data. Use the model to predict one target variable as map in space and time. \n",
    "\n",
    "![data](./figs/small.jpg)\n",
    "\n",
    "This notebook shows a simple workflow to:\n",
    "\n",
    "- train a RandomForest model \n",
    "- Preprocess data\n",
    "- Run the model \n",
    "\n",
    "This notebook and data are based on the research carried by Qianqian Han https://doi.org/10.5194/egusphere-egu24-5488.\n",
    "\n",
    "This notebook is avialable at https://github.com/RS-DAT/JupyterDask-Examples\n"
   ]
  },
  {
   "cell_type": "markdown",
   "id": "f3d8c7bc-f6f4-4270-8fae-018bbb6f5737",
   "metadata": {
    "tags": []
   },
   "source": [
    "## Model training"
   ]
  },
  {
   "cell_type": "code",
   "execution_count": null,
   "id": "f7c067b1-824d-4b46-8ca0-5446fb852f9f",
   "metadata": {
    "tags": []
   },
   "outputs": [],
   "source": [
    "import numpy as np\n",
    "import pandas as pd\n",
    "\n",
    "from sklearn.ensemble import RandomForestRegressor\n",
    "\n",
    "from sklearn.model_selection import train_test_split\n",
    "from sklearn.preprocessing import OneHotEncoder\n",
    "\n",
    "import joblib"
   ]
  },
  {
   "cell_type": "code",
   "execution_count": null,
   "id": "b513372c-c384-4dd4-967e-c37e2b65253a",
   "metadata": {
    "tags": []
   },
   "outputs": [],
   "source": [
    "import sys\n",
    "sys.path.append('.')\n",
    "from utils import training_testing_preprocess, igbp_to_landcover"
   ]
  },
  {
   "cell_type": "code",
   "execution_count": null,
   "id": "1d5b22c6-13e0-4ee2-8d4e-f6010b17c2c1",
   "metadata": {
    "tags": []
   },
   "outputs": [],
   "source": [
    "parent_in_path = \"/scratch/EcoExtreML\"\n",
    "parent_out_path = \"/scratch/outputs\"\n",
    "data_paths = {\"input_data\": f\"{parent_in_path}/model/training_testing_2014.csv\",\n",
    "            \"igbp_table\": f\"{parent_in_path}/auxiliary/lccs_to_igbp_table.csv\",\n",
    "            \"igbp_class\": f\"{parent_in_path}/auxiliary/IGBP11unique.csv\",\n",
    "             }\n",
    "              \n",
    "input_vars = ['Rin', 'Rli', 'p', 'Ta', 'ea', 'u', 'CO2', 'LAI','Vcmo', 'hc', 'Precip_msr','SSM', 'IGBP_veg_long', \n",
    "              'Rntot', 'LEtot', 'Htot','Gtot', 'Actot', 'SIF685', 'SIF740']"
   ]
  },
  {
   "cell_type": "code",
   "execution_count": null,
   "id": "c7d8d261-4bec-4409-9f27-709189c22a12",
   "metadata": {
    "tags": []
   },
   "outputs": [],
   "source": [
    "# read data\n",
    "input_df = pd.read_csv(data_paths[\"input_data\"], usecols=input_vars)\n",
    "\n",
    "# define one hot encoding \n",
    "encoder = OneHotEncoder(sparse_output=False)\n",
    "\n",
    "# preprocess data\n",
    "input_df = training_testing_preprocess(input_df)\n",
    "igbp_class = pd.read_csv(data_paths[\"igbp_class\"])['0'].unique()\n",
    "input_df = igbp_to_landcover(input_df, encoder, igbp_class)"
   ]
  },
  {
   "cell_type": "code",
   "execution_count": null,
   "id": "de835672-fbd3-47e1-a7fb-9bad41cbbf31",
   "metadata": {
    "tags": []
   },
   "outputs": [],
   "source": [
    "# training 1 output\n",
    "x_vars = ['Rin', 'Rli', 'p', 'Ta', 'ea', 'u', 'CO2', 'LAI','Vcmo', 'hc', 'Precip_msr','SSM', *[f'IGBP_veg_long{i}' for i in range(1, 12)]]\n",
    "x = input_df[x_vars]\n",
    "\n",
    "y_vars = ['LEtot']\n",
    "y = input_df[y_vars].values.ravel()\n",
    "\n",
    "x_train, x_test, y_train, y_test = train_test_split(x, y, test_size=0.25, random_state=0, shuffle=True)\n",
    "regressor = RandomForestRegressor(n_estimators=10,\n",
    "                          max_depth=20,\n",
    "                          random_state=0,\n",
    "                          n_jobs=1,\n",
    "                          min_samples_split=10,\n",
    "                          min_samples_leaf=4)\n",
    "\n",
    "regressor.fit(x_train, y_train)\n",
    "regressor"
   ]
  },
  {
   "cell_type": "code",
   "execution_count": null,
   "id": "ba09a9c5-cd9d-4983-adce-74f55276783f",
   "metadata": {
    "tags": []
   },
   "outputs": [],
   "source": [
    "joblib.dump(regressor, f\"{parent_out_path}/model_LEtot.joblib\")\n",
    "print(\"model is saved\")"
   ]
  },
  {
   "cell_type": "markdown",
   "id": "f08edf65-8296-44dc-9dae-66224c622d78",
   "metadata": {},
   "source": [
    "## Preparing data"
   ]
  },
  {
   "cell_type": "code",
   "execution_count": null,
   "id": "cf5ad785-e929-4c62-aae9-84fa6e0620ea",
   "metadata": {
    "tags": []
   },
   "outputs": [],
   "source": [
    "import dcachefs\n",
    "import fsspec\n",
    "import xarray as xr\n",
    "import rioxarray"
   ]
  },
  {
   "cell_type": "code",
   "execution_count": null,
   "id": "189428fd-5eb1-4921-bbd1-a46cd4ccceb9",
   "metadata": {
    "tags": []
   },
   "outputs": [],
   "source": [
    "import sys\n",
    "sys.path.append('.')\n",
    "from utils import fix_coords, fix_time"
   ]
  },
  {
   "cell_type": "code",
   "execution_count": null,
   "id": "4370098d-972c-494b-852f-b5a3c731c8b5",
   "metadata": {
    "tags": []
   },
   "outputs": [],
   "source": [
    "parent_in_path = f\"dcache://pnfs/grid.sara.nl/data/remotesensing/disk/EcoExtreML/raw_eu\"\n",
    "\n",
    "data_paths = {\"era5land\": f\"{parent_in_path}/era5land/*_EU.nc\",\n",
    "            \"lai\": f\"{parent_in_path}/lai_v2/*_EU.nc\",\n",
    "            \"ssm\": f\"{parent_in_path}/ssm/GlobalGSSM11km2014_20240214.tif_EU.tif\",\n",
    "            \"co2\": f\"{parent_in_path}/co2/CAMS_CO2_2003-2020.nc_EU.nc\",\n",
    "            \"landcover\": f\"{parent_in_path}/igbp/landcover10km_EU.nc\",\n",
    "            \"vcmax\": f\"{parent_in_path}/vcmax/TROPOMI_Vmax_Tg_mean10km_EU.nc\",\n",
    "            \"canopyheight\": f\"{parent_in_path}/canopy_height/canopy_height_11kmEurope20230921_10km_EU.nc\",\n",
    "            }\n",
    "\n",
    "parent_out_path = \"/scratch/outputs/NL\"\n",
    "os.makedirs(parent_out_path, exist_ok=True)\n",
    "\n",
    "# region of interest here NL\n",
    "bbox = [3.315, 50.8037,7.0921, 53.5104]\n",
    "\n",
    "# time series\n",
    "start_time = \"2014-1-31\"\n",
    "end_time = \"2014-02-05\""
   ]
  },
  {
   "cell_type": "code",
   "execution_count": null,
   "id": "c7936e81-9aef-4ced-bec8-131370fced7a",
   "metadata": {
    "tags": []
   },
   "outputs": [],
   "source": [
    "def open_files(paths):\n",
    "    ofs = fsspec.open_files(paths, block_size=5*2**20)\n",
    "    return [of.open() for of in ofs]"
   ]
  },
  {
   "cell_type": "code",
   "execution_count": null,
   "id": "976c0b93-fe34-4705-9c0f-c5917b13c86f",
   "metadata": {
    "tags": []
   },
   "outputs": [],
   "source": [
    "%%time\n",
    "for data_path in data_paths:\n",
    "    ofs = open_files(data_paths[data_path])\n",
    "    # read data\n",
    "    if data_path == \"era5land\":\n",
    "        ds = xr.open_mfdataset(ofs, engine=\"h5netcdf\")\n",
    "    \n",
    "    elif data_path == \"co2\":\n",
    "        ds = xr.open_mfdataset(ofs, engine=\"h5netcdf\")\n",
    "        \n",
    "    elif data_path == \"ssm\":  # this is a tif data\n",
    "        ds = rioxarray.open_rasterio(ofs[0])\n",
    "        ds = fix_coords(ds.to_dataset(name=\"ssm\"))\n",
    "\n",
    "    else:\n",
    "        ds = xr.open_mfdataset(ofs, engine=\"h5netcdf\", decode_times=False)\n",
    "        ds = fix_coords(ds)\n",
    "        \n",
    "    # convert day of year\n",
    "    ds = fix_time(ds, start_time)\n",
    "\n",
    "    masked_ds = ds.sel(longitude=slice(bbox[0], bbox[2]), latitude=slice(bbox[1], bbox[3]), time=slice(start_time, end_time))\n",
    "    \n",
    "    # save data \n",
    "    out_path = f\"{parent_out_path}/{data_path}_{start_time}_{end_time}_NL.nc\"\n",
    "    masked_ds.to_netcdf(out_path, mode='w')\n",
    "    print(f\"{out_path} is saved\")\n",
    "    print(\"=======================================\")"
   ]
  },
  {
   "cell_type": "markdown",
   "id": "936245cf-a125-4602-bc78-6fd5ca917af4",
   "metadata": {},
   "source": [
    "## Interpolations and Variable derivation\n",
    "#### Skip running during the presentation\n",
    "\n",
    "This cell needs modifications with regards to I/O paths depending on the infra."
   ]
  },
  {
   "cell_type": "code",
   "execution_count": null,
   "id": "13f8ca51-aa0b-4bc2-b3b8-d7185b6c9161",
   "metadata": {
    "tags": []
   },
   "outputs": [],
   "source": [
    "import xarray as xr\n",
    "import numpy as np\n",
    "import pandas as pd\n",
    "from PyStemmusScope import variable_conversion as vc\n",
    "import sys\n",
    "sys.path.append('.')\n",
    "from utils import interpolation, era5land_accumulated_vars, map_landcover_to_igbp, landcover_to_igbp\n",
    "from sklearn.preprocessing import OneHotEncoder\n",
    "\n",
    "start_time = \"2014-1-31\"\n",
    "end_time = \"2014-02-05\"\n",
    "\n",
    "parent_in_path = \"./data\"\n",
    "data_paths = {\"era5land\": f\"{parent_in_path}/NL/era5land_{start_time}_{end_time}_NL.nc\",\n",
    "              \"lai\": f\"{parent_in_path}/NL/lai_{start_time}_{end_time}_NL.nc\",\n",
    "              \"ssm\": f\"{parent_in_path}/NL/ssm_{start_time}_{end_time}_NL.nc\",\n",
    "              \"co2\": f\"{parent_in_path}/NL/co2_{start_time}_{end_time}_NL.nc\",\n",
    "              \"landcover\": f\"{parent_in_path}/NL/landcover_{start_time}_{end_time}_NL.nc\",\n",
    "              \"vcmax\": f\"{parent_in_path}/NL/vcmax_{start_time}_{end_time}_NL.nc\",\n",
    "              \"canopyheight\": f\"{parent_in_path}/NL/canopyheight_{start_time}_{end_time}_NL.nc\",\n",
    "              \"all_data\": f\"{parent_in_path}/NL/all_data_{start_time}_{end_time}_NL.nc\",\n",
    "              \"igbp_table\": f\"{parent_in_path}/auxiliary/lccs_to_igbp_table.csv\",\n",
    "              \"igbp_class\": f\"{parent_in_path}/auxiliary/IGBP11unique.csv\",\n",
    "            }\n",
    "parent_out_path = \"/scratch/outputs/NL\"\n",
    "os.makedirs(parent_out_path, exist_ok=True)\n",
    "\n",
    "variable_names = {\"lai\": \"LAI\",\n",
    "                  \"ssm\": \"band_data\",\n",
    "                  \"co2\": \"co2\",\n",
    "                  \"canopyheight\": \"__xarray_dataarray_variable__\",\n",
    "                  \"vcmax\": \"__xarray_dataarray_variable__\",\n",
    "                  \"landcover\": \"lccs_class\"}  \n",
    "\n",
    "# interpolation\n",
    "era5land = xr.open_dataset(data_paths[\"era5land\"])\n",
    "other_coords = {\"time\": era5land.time, \"longitude\": era5land.longitude, \"latitude\": era5land.latitude}\n",
    "\n",
    "for name in variable_names:\n",
    "    ds = xr.open_dataset(data_paths[name])\n",
    "    ds_interpolated = interpolation(ds, other_coords)    \n",
    "    era5land[name] = ds_interpolated[variable_names[name]]\n",
    "\n",
    "# save\n",
    "out_path = f\"{parent_out_path}/all_data_{start_time}_{end_time}_NL.nc\"\n",
    "era5land.to_netcdf(out_path, mode='w')\n",
    "print(f\"{out_path} is saved\")\n",
    "\n",
    "# variable derivation\n",
    "# read data\n",
    "all_data = xr.open_dataset(data_paths[\"all_data\"])\n",
    "\n",
    "# variable calculations\n",
    "all_data = era5land_accumulated_vars(all_data, \"ssrd\", \"Rin\", 3600)\n",
    "all_data = era5land_accumulated_vars(all_data, \"strd\", \"Rli\", 3600)\n",
    "all_data = era5land_accumulated_vars(all_data, \"tp\", \"Precip_msr\", 0.001) # to mm\n",
    "all_data[\"p\"] = all_data[\"sp\"] / 100  # Pa -> hPa\n",
    "all_data[\"Ta\"] = all_data[\"t2m\"] - 273.15  # K -> degC\n",
    "all_data[\"ea\"] = vc.calculate_es(all_data[\"d2m\"] - 273.15)*10 # *10 is for kPa -> hPa\n",
    "all_data[\"u\"] = (all_data[\"u10\"] ** 2 + all_data[\"v10\"] ** 2) ** 0.5\n",
    "all_data[\"ssm\"] = all_data[\"ssm\"] / 1000\n",
    "\n",
    "# convert landcover to IGBP\n",
    "# lookup tables\n",
    "igbp_table = pd.read_csv(data_paths[\"igbp_table\"])\n",
    "igbp_class = pd.read_csv(data_paths[\"igbp_class\"])['0'].unique()\n",
    "\n",
    "# define one hot encoding for IGBP using dask-ml functions\n",
    "encoder = OneHotEncoder(sparse_output=False)\n",
    "\n",
    "# Unsorted categories are not yet supported by dask-ml\n",
    "igbp_stemmus_scope = np.sort(igbp_table[\"IGBP_STEMMUS_SCOPE\"].to_numpy().reshape(-1,1))\n",
    "encoder = encoder.fit(igbp_stemmus_scope)  \n",
    "lookup_table = igbp_table.set_index(\"lccs_class\").T.to_dict('records')[0]\n",
    "\n",
    "ds = landcover_to_igbp(all_data, \"landcover\", encoder, lookup_table, igbp_class)\n",
    "\n",
    "# rename some variables\n",
    "rename_vars = {\"co2\": \"CO2\", \"lai\": \"LAI\", \"canopyheight\": \"hc\", \"ssm\": \"SSM\", \"vcmax\": \"Vcmo\"}\n",
    "ds = ds.rename(rename_vars)\n",
    "\n",
    "# save\n",
    "out_path = f\"{parent_out_path}/model_input_{start_time}_{end_time}_NL.nc\"\n",
    "ds.to_netcdf(out_path, mode='w')\n",
    "print(f\"{out_path} is saved\")"
   ]
  },
  {
   "cell_type": "markdown",
   "id": "25aa8223-1b6f-40cd-b916-e73706929378",
   "metadata": {
    "jupyter": {
     "outputs_hidden": true
    },
    "tags": []
   },
   "source": [
    "## Model prediction"
   ]
  },
  {
   "cell_type": "code",
   "execution_count": null,
   "id": "bc54a254-cca4-400c-8fe1-8993b13f82d4",
   "metadata": {
    "tags": []
   },
   "outputs": [],
   "source": [
    "import xarray as xr\n",
    "import numpy as np\n",
    "\n",
    "from joblib import load"
   ]
  },
  {
   "cell_type": "code",
   "execution_count": null,
   "id": "ccb3f7e9-90db-43a0-92ef-ff3d645c4bf0",
   "metadata": {
    "tags": []
   },
   "outputs": [],
   "source": [
    "import sys\n",
    "sys.path.append('.')\n",
    "from utils import arr_to_ds"
   ]
  },
  {
   "cell_type": "code",
   "execution_count": null,
   "id": "8afcb372-7fca-43b9-b22a-2ed3e96b353e",
   "metadata": {
    "tags": []
   },
   "outputs": [],
   "source": [
    "start_time = \"2014-1-31\"\n",
    "end_time = \"2014-02-05\"\n",
    "\n",
    "parent_in_path = \"/scratch/EcoExtreML\"\n",
    "parent_out_path = \"/scratch/outputs/NL\"\n",
    "\n",
    "model_input = xr.open_dataset(f\"{parent_in_path}/NL/model_input_{start_time}_{end_time}_NL.nc\")"
   ]
  },
  {
   "cell_type": "code",
   "execution_count": null,
   "id": "e4ce392f-fba4-42eb-8dd6-2a0376a2516a",
   "metadata": {
    "tags": []
   },
   "outputs": [],
   "source": [
    "# load model\n",
    "path_model = f\"{parent_in_path}/model/model_LEtot.joblib\"\n",
    "model = load(path_model)\n",
    "model"
   ]
  },
  {
   "cell_type": "code",
   "execution_count": null,
   "id": "c42dc494-b4b5-4c63-8cc3-75593c682312",
   "metadata": {
    "tags": []
   },
   "outputs": [],
   "source": [
    "input_vars = [\n",
    "    'Rin', 'Rli', 'p', 'Ta', 'ea', 'u', 'CO2', 'LAI', 'Vcmo','hc', 'Precip_msr',  \n",
    "    'SSM',  *[f'IGBP_veg_long{i}' for i in range(1, 12)]\n",
    "]\n",
    "\n",
    "# select input/output data \n",
    "input_ds = model_input[input_vars]\n",
    "output_vars = ['LEtot']"
   ]
  },
  {
   "cell_type": "code",
   "execution_count": null,
   "id": "5cb2e44b-2cc0-4bda-91d9-49485f93ba76",
   "metadata": {
    "tags": []
   },
   "outputs": [],
   "source": [
    "df_features = input_ds.to_dataframe().reset_index().drop(columns=[\"time\", \"longitude\", \"latitude\"])\n",
    "\n",
    "# Convert the nan value as 0 for the calculation\n",
    "df_features = df_features.fillna(0)\n",
    "\n",
    "LEH = model.predict(df_features)\n",
    "\n",
    "output_ds = arr_to_ds(LEH, input_ds, output_vars)\n",
    "\n",
    "# save data\n",
    "out_path = f\"{parent_out_path}/predicted_{start_time}_{end_time}_NL.nc\"\n",
    "output_ds.to_netcdf(out_path, mode='w')\n",
    "print(f\"{out_path} is saved\")"
   ]
  },
  {
   "cell_type": "code",
   "execution_count": null,
   "id": "4c26cf99-90b9-4adf-95b9-edae7000e71e",
   "metadata": {
    "tags": []
   },
   "outputs": [],
   "source": [
    "output_ds = xr.open_dataset(out_path)"
   ]
  },
  {
   "cell_type": "code",
   "execution_count": null,
   "id": "46280be8-379b-4d2e-ad89-9272beaba838",
   "metadata": {
    "tags": []
   },
   "outputs": [],
   "source": [
    "output_ds.LEtot.isel(time=2).plot()"
   ]
  },
  {
   "cell_type": "code",
   "execution_count": null,
   "id": "ac75ab67-8849-4190-acec-862baa47be2b",
   "metadata": {},
   "outputs": [],
   "source": [
    "output_ds.Rntot.isel(time=2).plot()"
   ]
  },
  {
   "cell_type": "code",
   "execution_count": null,
   "id": "90ce8699-236d-4d40-a669-35c519850c8f",
   "metadata": {},
   "outputs": [],
   "source": [
    "output_ds.LEtot.sel(latitude=(52.36),longitude=(4.90)).plot()"
   ]
  }
 ],
 "metadata": {
  "kernelspec": {
   "display_name": "Python 3 (ipykernel)",
   "language": "python",
   "name": "python3"
  },
  "language_info": {
   "codemirror_mode": {
    "name": "ipython",
    "version": 3
   },
   "file_extension": ".py",
   "mimetype": "text/x-python",
   "name": "python",
   "nbconvert_exporter": "python",
   "pygments_lexer": "ipython3",
   "version": "3.9.16"
  }
 },
 "nbformat": 4,
 "nbformat_minor": 5
}
