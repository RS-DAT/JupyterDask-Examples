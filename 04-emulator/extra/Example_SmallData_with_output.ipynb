{
 "cells": [
  {
   "cell_type": "markdown",
   "id": "92b49214-0f60-433c-a4b3-35d323a85f5c",
   "metadata": {},
   "source": [
    "# Running Machine Learning tasks with DAT (Deployable Analysis environmenT) \n",
    "\n",
    "Problem at hand:\n",
    "Train a Machine Learning model on sparse data. Use the model to predict one target variable as map in space and time. \n",
    "\n",
    "![data](./figs/small.jpg)\n",
    "\n",
    "This notebook shows a simple workflow to:\n",
    "\n",
    "- train a RandomForest model \n",
    "- Preprocess data\n",
    "- Run the model \n",
    "\n",
    "This notebook and data are based on the research carried by Qianqian Han https://doi.org/10.5194/egusphere-egu24-5488.\n",
    "\n",
    "This notebook is avialable at https://github.com/RS-DAT/JupyterDask-Examples\n"
   ]
  },
  {
   "cell_type": "markdown",
   "id": "f3d8c7bc-f6f4-4270-8fae-018bbb6f5737",
   "metadata": {
    "tags": []
   },
   "source": [
    "## Model training"
   ]
  },
  {
   "cell_type": "code",
   "execution_count": 1,
   "id": "f7c067b1-824d-4b46-8ca0-5446fb852f9f",
   "metadata": {
    "tags": []
   },
   "outputs": [],
   "source": [
    "import os\n",
    "\n",
    "import numpy as np\n",
    "import pandas as pd\n",
    "\n",
    "from sklearn.ensemble import RandomForestRegressor\n",
    "\n",
    "from sklearn.model_selection import train_test_split\n",
    "from sklearn.preprocessing import OneHotEncoder\n",
    "\n",
    "import joblib"
   ]
  },
  {
   "cell_type": "code",
   "execution_count": 2,
   "id": "b513372c-c384-4dd4-967e-c37e2b65253a",
   "metadata": {
    "tags": []
   },
   "outputs": [],
   "source": [
    "import sys\n",
    "sys.path.append('.')\n",
    "from utils import training_testing_preprocess, igbp_to_landcover"
   ]
  },
  {
   "cell_type": "code",
   "execution_count": 3,
   "id": "1d5b22c6-13e0-4ee2-8d4e-f6010b17c2c1",
   "metadata": {
    "tags": []
   },
   "outputs": [],
   "source": [
    "parent_in_path = \"/scratch/EcoExtreML\"\n",
    "parent_out_path = \"/scratch/outputs/model\"\n",
    "os.makedirs(parent_out_path, exist_ok=True)\n",
    "              \n",
    "input_vars = ['Rin', 'Rli', 'p', 'Ta', 'ea', 'u', 'CO2', 'LAI','Vcmo', 'hc', 'Precip_msr','SSM', 'IGBP_veg_long', \n",
    "              'Rntot', 'LEtot', 'Htot','Gtot', 'Actot', 'SIF685', 'SIF740']"
   ]
  },
  {
   "cell_type": "code",
   "execution_count": 5,
   "id": "c7d8d261-4bec-4409-9f27-709189c22a12",
   "metadata": {
    "tags": []
   },
   "outputs": [],
   "source": [
    "# read data\n",
    "input_data = f\"{parent_in_path}/model/training_testing_2014.csv\"\n",
    "input_df = pd.read_csv(input_data, usecols=input_vars)\n",
    "\n",
    "# define one hot encoding \n",
    "encoder = OneHotEncoder(sparse_output=False)\n",
    "\n",
    "# preprocess data\n",
    "input_df = training_testing_preprocess(input_df)\n",
    "igbp_class = pd.read_csv(f\"{parent_in_path}/auxiliary/IGBP11unique.csv\")['0'].unique()\n",
    "input_df = igbp_to_landcover(input_df, encoder, igbp_class)"
   ]
  },
  {
   "cell_type": "code",
   "execution_count": 6,
   "id": "de835672-fbd3-47e1-a7fb-9bad41cbbf31",
   "metadata": {
    "tags": []
   },
   "outputs": [
    {
     "data": {
      "text/html": [
       "<style>#sk-container-id-1 {color: black;background-color: white;}#sk-container-id-1 pre{padding: 0;}#sk-container-id-1 div.sk-toggleable {background-color: white;}#sk-container-id-1 label.sk-toggleable__label {cursor: pointer;display: block;width: 100%;margin-bottom: 0;padding: 0.3em;box-sizing: border-box;text-align: center;}#sk-container-id-1 label.sk-toggleable__label-arrow:before {content: \"▸\";float: left;margin-right: 0.25em;color: #696969;}#sk-container-id-1 label.sk-toggleable__label-arrow:hover:before {color: black;}#sk-container-id-1 div.sk-estimator:hover label.sk-toggleable__label-arrow:before {color: black;}#sk-container-id-1 div.sk-toggleable__content {max-height: 0;max-width: 0;overflow: hidden;text-align: left;background-color: #f0f8ff;}#sk-container-id-1 div.sk-toggleable__content pre {margin: 0.2em;color: black;border-radius: 0.25em;background-color: #f0f8ff;}#sk-container-id-1 input.sk-toggleable__control:checked~div.sk-toggleable__content {max-height: 200px;max-width: 100%;overflow: auto;}#sk-container-id-1 input.sk-toggleable__control:checked~label.sk-toggleable__label-arrow:before {content: \"▾\";}#sk-container-id-1 div.sk-estimator input.sk-toggleable__control:checked~label.sk-toggleable__label {background-color: #d4ebff;}#sk-container-id-1 div.sk-label input.sk-toggleable__control:checked~label.sk-toggleable__label {background-color: #d4ebff;}#sk-container-id-1 input.sk-hidden--visually {border: 0;clip: rect(1px 1px 1px 1px);clip: rect(1px, 1px, 1px, 1px);height: 1px;margin: -1px;overflow: hidden;padding: 0;position: absolute;width: 1px;}#sk-container-id-1 div.sk-estimator {font-family: monospace;background-color: #f0f8ff;border: 1px dotted black;border-radius: 0.25em;box-sizing: border-box;margin-bottom: 0.5em;}#sk-container-id-1 div.sk-estimator:hover {background-color: #d4ebff;}#sk-container-id-1 div.sk-parallel-item::after {content: \"\";width: 100%;border-bottom: 1px solid gray;flex-grow: 1;}#sk-container-id-1 div.sk-label:hover label.sk-toggleable__label {background-color: #d4ebff;}#sk-container-id-1 div.sk-serial::before {content: \"\";position: absolute;border-left: 1px solid gray;box-sizing: border-box;top: 0;bottom: 0;left: 50%;z-index: 0;}#sk-container-id-1 div.sk-serial {display: flex;flex-direction: column;align-items: center;background-color: white;padding-right: 0.2em;padding-left: 0.2em;position: relative;}#sk-container-id-1 div.sk-item {position: relative;z-index: 1;}#sk-container-id-1 div.sk-parallel {display: flex;align-items: stretch;justify-content: center;background-color: white;position: relative;}#sk-container-id-1 div.sk-item::before, #sk-container-id-1 div.sk-parallel-item::before {content: \"\";position: absolute;border-left: 1px solid gray;box-sizing: border-box;top: 0;bottom: 0;left: 50%;z-index: -1;}#sk-container-id-1 div.sk-parallel-item {display: flex;flex-direction: column;z-index: 1;position: relative;background-color: white;}#sk-container-id-1 div.sk-parallel-item:first-child::after {align-self: flex-end;width: 50%;}#sk-container-id-1 div.sk-parallel-item:last-child::after {align-self: flex-start;width: 50%;}#sk-container-id-1 div.sk-parallel-item:only-child::after {width: 0;}#sk-container-id-1 div.sk-dashed-wrapped {border: 1px dashed gray;margin: 0 0.4em 0.5em 0.4em;box-sizing: border-box;padding-bottom: 0.4em;background-color: white;}#sk-container-id-1 div.sk-label label {font-family: monospace;font-weight: bold;display: inline-block;line-height: 1.2em;}#sk-container-id-1 div.sk-label-container {text-align: center;}#sk-container-id-1 div.sk-container {/* jupyter's `normalize.less` sets `[hidden] { display: none; }` but bootstrap.min.css set `[hidden] { display: none !important; }` so we also need the `!important` here to be able to override the default hidden behavior on the sphinx rendered scikit-learn.org. See: https://github.com/scikit-learn/scikit-learn/issues/21755 */display: inline-block !important;position: relative;}#sk-container-id-1 div.sk-text-repr-fallback {display: none;}</style><div id=\"sk-container-id-1\" class=\"sk-top-container\"><div class=\"sk-text-repr-fallback\"><pre>RandomForestRegressor(max_depth=20, min_samples_leaf=4, min_samples_split=10,\n",
       "                      n_estimators=10, n_jobs=1, random_state=0)</pre><b>In a Jupyter environment, please rerun this cell to show the HTML representation or trust the notebook. <br />On GitHub, the HTML representation is unable to render, please try loading this page with nbviewer.org.</b></div><div class=\"sk-container\" hidden><div class=\"sk-item\"><div class=\"sk-estimator sk-toggleable\"><input class=\"sk-toggleable__control sk-hidden--visually\" id=\"sk-estimator-id-1\" type=\"checkbox\" checked><label for=\"sk-estimator-id-1\" class=\"sk-toggleable__label sk-toggleable__label-arrow\">RandomForestRegressor</label><div class=\"sk-toggleable__content\"><pre>RandomForestRegressor(max_depth=20, min_samples_leaf=4, min_samples_split=10,\n",
       "                      n_estimators=10, n_jobs=1, random_state=0)</pre></div></div></div></div></div>"
      ],
      "text/plain": [
       "RandomForestRegressor(max_depth=20, min_samples_leaf=4, min_samples_split=10,\n",
       "                      n_estimators=10, n_jobs=1, random_state=0)"
      ]
     },
     "execution_count": 6,
     "metadata": {},
     "output_type": "execute_result"
    }
   ],
   "source": [
    "# training 1 output\n",
    "x_vars = ['Rin', 'Rli', 'p', 'Ta', 'ea', 'u', 'CO2', 'LAI','Vcmo', 'hc', 'Precip_msr','SSM', *[f'IGBP_veg_long{i}' for i in range(1, 12)]]\n",
    "x = input_df[x_vars]\n",
    "\n",
    "y_vars = ['LEtot']\n",
    "y = input_df[y_vars].values.ravel()\n",
    "\n",
    "x_train, x_test, y_train, y_test = train_test_split(x, y, test_size=0.25, random_state=0, shuffle=True)\n",
    "regressor = RandomForestRegressor(n_estimators=10,\n",
    "                          max_depth=20,\n",
    "                          random_state=0,\n",
    "                          n_jobs=1,\n",
    "                          min_samples_split=10,\n",
    "                          min_samples_leaf=4)\n",
    "\n",
    "regressor.fit(x_train, y_train)\n",
    "regressor"
   ]
  },
  {
   "cell_type": "code",
   "execution_count": 7,
   "id": "ba09a9c5-cd9d-4983-adce-74f55276783f",
   "metadata": {
    "tags": []
   },
   "outputs": [
    {
     "name": "stdout",
     "output_type": "stream",
     "text": [
      "model is saved\n"
     ]
    }
   ],
   "source": [
    "joblib.dump(regressor, f\"{parent_out_path}/model_LEtot.joblib\")\n",
    "print(\"model is saved\")"
   ]
  },
  {
   "cell_type": "markdown",
   "id": "f08edf65-8296-44dc-9dae-66224c622d78",
   "metadata": {},
   "source": [
    "## Preparing data"
   ]
  },
  {
   "cell_type": "code",
   "execution_count": 8,
   "id": "cf5ad785-e929-4c62-aae9-84fa6e0620ea",
   "metadata": {
    "tags": []
   },
   "outputs": [],
   "source": [
    "import os\n",
    "import dcachefs\n",
    "\n",
    "import fsspec\n",
    "import xarray as xr\n",
    "import rioxarray"
   ]
  },
  {
   "cell_type": "code",
   "execution_count": 9,
   "id": "189428fd-5eb1-4921-bbd1-a46cd4ccceb9",
   "metadata": {
    "tags": []
   },
   "outputs": [],
   "source": [
    "import sys\n",
    "sys.path.append('.')\n",
    "from utils import fix_coords, fix_time, remove_encoding"
   ]
  },
  {
   "cell_type": "code",
   "execution_count": 10,
   "id": "4370098d-972c-494b-852f-b5a3c731c8b5",
   "metadata": {
    "tags": []
   },
   "outputs": [],
   "source": [
    "parent_in_path = f\"dcache://pnfs/grid.sara.nl/data/remotesensing/disk/EcoExtreML/raw_eu\"\n",
    "\n",
    "data_paths = {\"era5land\": f\"{parent_in_path}/era5land/*_EU.nc\",\n",
    "            \"lai\": f\"{parent_in_path}/lai_v2/*_EU.nc\",\n",
    "            \"ssm\": f\"{parent_in_path}/ssm/GlobalGSSM11km2014_20240214.tif_EU.tif\",\n",
    "            \"co2\": f\"{parent_in_path}/co2/CAMS_CO2_2003-2020.nc_EU.nc\",\n",
    "            \"landcover\": f\"{parent_in_path}/igbp/landcover10km_EU.nc\",\n",
    "            \"vcmax\": f\"{parent_in_path}/vcmax/TROPOMI_Vmax_Tg_mean10km_EU.nc\",\n",
    "            \"canopyheight\": f\"{parent_in_path}/canopy_height/canopy_height_11kmEurope20230921_10km_EU.nc\",\n",
    "            }\n",
    "\n",
    "parent_out_path = \"/scratch/outputs/NL\"\n",
    "os.makedirs(parent_out_path, exist_ok=True)\n",
    "\n",
    "# region of interest here NL\n",
    "bbox = [3.315, 50.8037,7.0921, 53.5104]\n",
    "\n",
    "# time series\n",
    "start_time = \"2014-1-31\"\n",
    "end_time = \"2014-02-05\""
   ]
  },
  {
   "cell_type": "code",
   "execution_count": 11,
   "id": "c7936e81-9aef-4ced-bec8-131370fced7a",
   "metadata": {
    "tags": []
   },
   "outputs": [],
   "source": [
    "def open_files(paths):\n",
    "    ofs = fsspec.open_files(paths, block_size=5*2**20)\n",
    "    return [of.open() for of in ofs]"
   ]
  },
  {
   "cell_type": "code",
   "execution_count": 12,
   "id": "976c0b93-fe34-4705-9c0f-c5917b13c86f",
   "metadata": {
    "tags": []
   },
   "outputs": [
    {
     "name": "stdout",
     "output_type": "stream",
     "text": [
      "/scratch/outputs/NL/era5land_2014-1-31_2014-02-05_NL.nc is saved\n",
      "=======================================\n",
      "/scratch/outputs/NL/lai_2014-1-31_2014-02-05_NL.nc is saved\n",
      "=======================================\n",
      "/scratch/outputs/NL/ssm_2014-1-31_2014-02-05_NL.nc is saved\n",
      "=======================================\n",
      "/scratch/outputs/NL/co2_2014-1-31_2014-02-05_NL.nc is saved\n",
      "=======================================\n",
      "/scratch/outputs/NL/landcover_2014-1-31_2014-02-05_NL.nc is saved\n",
      "=======================================\n",
      "/scratch/outputs/NL/vcmax_2014-1-31_2014-02-05_NL.nc is saved\n",
      "=======================================\n",
      "/scratch/outputs/NL/canopyheight_2014-1-31_2014-02-05_NL.nc is saved\n",
      "=======================================\n",
      "CPU times: user 16.7 s, sys: 3.11 s, total: 19.8 s\n",
      "Wall time: 49.9 s\n"
     ]
    }
   ],
   "source": [
    "%%time\n",
    "for data_path in data_paths:\n",
    "    ofs = open_files(data_paths[data_path])\n",
    "    # read data\n",
    "    if data_path == \"era5land\":\n",
    "        ds = xr.open_mfdataset(ofs, engine=\"h5netcdf\")\n",
    "    \n",
    "    elif data_path == \"co2\":\n",
    "        ds = xr.open_mfdataset(ofs, engine=\"h5netcdf\")\n",
    "        \n",
    "    elif data_path == \"ssm\":  # this is a tif data\n",
    "        ds = rioxarray.open_rasterio(ofs[0])\n",
    "        ds = fix_coords(ds.to_dataset(name=\"ssm\"))\n",
    "\n",
    "    else:\n",
    "        ds = xr.open_mfdataset(ofs, engine=\"h5netcdf\", decode_times=False)\n",
    "        ds = fix_coords(ds)\n",
    "        \n",
    "    # convert day of year\n",
    "    ds = fix_time(ds, start_time)\n",
    "    \n",
    "    # select data subset\n",
    "    masked_ds = ds.sel(longitude=slice(bbox[0], bbox[2]), latitude=slice(bbox[1], bbox[3]), time=slice(start_time, end_time))\n",
    "    \n",
    "    # remove global encoding\n",
    "    masked_ds = remove_encoding(masked_ds)\n",
    "    \n",
    "    # save data \n",
    "    out_path = f\"{parent_out_path}/{data_path}_{start_time}_{end_time}_NL.nc\"\n",
    "    masked_ds.to_netcdf(out_path, mode='w')\n",
    "    print(f\"{out_path} is saved\")\n",
    "    print(\"=======================================\")"
   ]
  },
  {
   "cell_type": "markdown",
   "id": "936245cf-a125-4602-bc78-6fd5ca917af4",
   "metadata": {},
   "source": [
    "## Data processing: \n",
    "- Interpolations in space and time\n",
    "- Variable derivation\n",
    "- Unit conversion\n",
    "\n",
    "Skip running during the presentation, these tasks are implemented in the notebook [DataProcessing_SmallData.ipynb](./extra/DataProcessing_SmallData.ipynb)."
   ]
  },
  {
   "cell_type": "markdown",
   "id": "25aa8223-1b6f-40cd-b916-e73706929378",
   "metadata": {
    "jupyter": {
     "outputs_hidden": true
    },
    "tags": []
   },
   "source": [
    "## Model prediction"
   ]
  },
  {
   "cell_type": "code",
   "execution_count": 13,
   "id": "bc54a254-cca4-400c-8fe1-8993b13f82d4",
   "metadata": {
    "tags": []
   },
   "outputs": [],
   "source": [
    "import os\n",
    "\n",
    "import xarray as xr\n",
    "import numpy as np\n",
    "\n",
    "from joblib import load"
   ]
  },
  {
   "cell_type": "code",
   "execution_count": 14,
   "id": "ccb3f7e9-90db-43a0-92ef-ff3d645c4bf0",
   "metadata": {
    "tags": []
   },
   "outputs": [],
   "source": [
    "import sys\n",
    "sys.path.append('.')\n",
    "from utils import arr_to_ds"
   ]
  },
  {
   "cell_type": "code",
   "execution_count": 15,
   "id": "8afcb372-7fca-43b9-b22a-2ed3e96b353e",
   "metadata": {
    "tags": []
   },
   "outputs": [],
   "source": [
    "start_time = \"2014-1-31\"\n",
    "end_time = \"2014-02-05\"\n",
    "\n",
    "parent_in_path = \"/scratch/EcoExtreML\"\n",
    "parent_out_path = \"/scratch/outputs/NL\"\n",
    "os.makedirs(parent_out_path, exist_ok=True)\n",
    "\n",
    "model_input = xr.open_dataset(f\"{parent_in_path}/NL/model_input_{start_time}_{end_time}_NL.nc\")"
   ]
  },
  {
   "cell_type": "code",
   "execution_count": 16,
   "id": "e4ce392f-fba4-42eb-8dd6-2a0376a2516a",
   "metadata": {
    "tags": []
   },
   "outputs": [
    {
     "data": {
      "text/html": [
       "<style>#sk-container-id-2 {color: black;background-color: white;}#sk-container-id-2 pre{padding: 0;}#sk-container-id-2 div.sk-toggleable {background-color: white;}#sk-container-id-2 label.sk-toggleable__label {cursor: pointer;display: block;width: 100%;margin-bottom: 0;padding: 0.3em;box-sizing: border-box;text-align: center;}#sk-container-id-2 label.sk-toggleable__label-arrow:before {content: \"▸\";float: left;margin-right: 0.25em;color: #696969;}#sk-container-id-2 label.sk-toggleable__label-arrow:hover:before {color: black;}#sk-container-id-2 div.sk-estimator:hover label.sk-toggleable__label-arrow:before {color: black;}#sk-container-id-2 div.sk-toggleable__content {max-height: 0;max-width: 0;overflow: hidden;text-align: left;background-color: #f0f8ff;}#sk-container-id-2 div.sk-toggleable__content pre {margin: 0.2em;color: black;border-radius: 0.25em;background-color: #f0f8ff;}#sk-container-id-2 input.sk-toggleable__control:checked~div.sk-toggleable__content {max-height: 200px;max-width: 100%;overflow: auto;}#sk-container-id-2 input.sk-toggleable__control:checked~label.sk-toggleable__label-arrow:before {content: \"▾\";}#sk-container-id-2 div.sk-estimator input.sk-toggleable__control:checked~label.sk-toggleable__label {background-color: #d4ebff;}#sk-container-id-2 div.sk-label input.sk-toggleable__control:checked~label.sk-toggleable__label {background-color: #d4ebff;}#sk-container-id-2 input.sk-hidden--visually {border: 0;clip: rect(1px 1px 1px 1px);clip: rect(1px, 1px, 1px, 1px);height: 1px;margin: -1px;overflow: hidden;padding: 0;position: absolute;width: 1px;}#sk-container-id-2 div.sk-estimator {font-family: monospace;background-color: #f0f8ff;border: 1px dotted black;border-radius: 0.25em;box-sizing: border-box;margin-bottom: 0.5em;}#sk-container-id-2 div.sk-estimator:hover {background-color: #d4ebff;}#sk-container-id-2 div.sk-parallel-item::after {content: \"\";width: 100%;border-bottom: 1px solid gray;flex-grow: 1;}#sk-container-id-2 div.sk-label:hover label.sk-toggleable__label {background-color: #d4ebff;}#sk-container-id-2 div.sk-serial::before {content: \"\";position: absolute;border-left: 1px solid gray;box-sizing: border-box;top: 0;bottom: 0;left: 50%;z-index: 0;}#sk-container-id-2 div.sk-serial {display: flex;flex-direction: column;align-items: center;background-color: white;padding-right: 0.2em;padding-left: 0.2em;position: relative;}#sk-container-id-2 div.sk-item {position: relative;z-index: 1;}#sk-container-id-2 div.sk-parallel {display: flex;align-items: stretch;justify-content: center;background-color: white;position: relative;}#sk-container-id-2 div.sk-item::before, #sk-container-id-2 div.sk-parallel-item::before {content: \"\";position: absolute;border-left: 1px solid gray;box-sizing: border-box;top: 0;bottom: 0;left: 50%;z-index: -1;}#sk-container-id-2 div.sk-parallel-item {display: flex;flex-direction: column;z-index: 1;position: relative;background-color: white;}#sk-container-id-2 div.sk-parallel-item:first-child::after {align-self: flex-end;width: 50%;}#sk-container-id-2 div.sk-parallel-item:last-child::after {align-self: flex-start;width: 50%;}#sk-container-id-2 div.sk-parallel-item:only-child::after {width: 0;}#sk-container-id-2 div.sk-dashed-wrapped {border: 1px dashed gray;margin: 0 0.4em 0.5em 0.4em;box-sizing: border-box;padding-bottom: 0.4em;background-color: white;}#sk-container-id-2 div.sk-label label {font-family: monospace;font-weight: bold;display: inline-block;line-height: 1.2em;}#sk-container-id-2 div.sk-label-container {text-align: center;}#sk-container-id-2 div.sk-container {/* jupyter's `normalize.less` sets `[hidden] { display: none; }` but bootstrap.min.css set `[hidden] { display: none !important; }` so we also need the `!important` here to be able to override the default hidden behavior on the sphinx rendered scikit-learn.org. See: https://github.com/scikit-learn/scikit-learn/issues/21755 */display: inline-block !important;position: relative;}#sk-container-id-2 div.sk-text-repr-fallback {display: none;}</style><div id=\"sk-container-id-2\" class=\"sk-top-container\"><div class=\"sk-text-repr-fallback\"><pre>RandomForestRegressor(max_depth=20, min_samples_leaf=4, min_samples_split=10,\n",
       "                      n_estimators=10, n_jobs=1, random_state=0)</pre><b>In a Jupyter environment, please rerun this cell to show the HTML representation or trust the notebook. <br />On GitHub, the HTML representation is unable to render, please try loading this page with nbviewer.org.</b></div><div class=\"sk-container\" hidden><div class=\"sk-item\"><div class=\"sk-estimator sk-toggleable\"><input class=\"sk-toggleable__control sk-hidden--visually\" id=\"sk-estimator-id-2\" type=\"checkbox\" checked><label for=\"sk-estimator-id-2\" class=\"sk-toggleable__label sk-toggleable__label-arrow\">RandomForestRegressor</label><div class=\"sk-toggleable__content\"><pre>RandomForestRegressor(max_depth=20, min_samples_leaf=4, min_samples_split=10,\n",
       "                      n_estimators=10, n_jobs=1, random_state=0)</pre></div></div></div></div></div>"
      ],
      "text/plain": [
       "RandomForestRegressor(max_depth=20, min_samples_leaf=4, min_samples_split=10,\n",
       "                      n_estimators=10, n_jobs=1, random_state=0)"
      ]
     },
     "execution_count": 16,
     "metadata": {},
     "output_type": "execute_result"
    }
   ],
   "source": [
    "# load model\n",
    "path_model = f\"{parent_in_path}/model/model_LEtot.joblib\"\n",
    "model = load(path_model)\n",
    "model"
   ]
  },
  {
   "cell_type": "code",
   "execution_count": 17,
   "id": "c42dc494-b4b5-4c63-8cc3-75593c682312",
   "metadata": {
    "tags": []
   },
   "outputs": [],
   "source": [
    "input_vars = [\n",
    "    'Rin', 'Rli', 'p', 'Ta', 'ea', 'u', 'CO2', 'LAI', 'Vcmo','hc', 'Precip_msr',  \n",
    "    'SSM',  *[f'IGBP_veg_long{i}' for i in range(1, 12)]\n",
    "]\n",
    "\n",
    "# select input/output data \n",
    "input_ds = model_input[input_vars]\n",
    "output_vars = ['LEtot']"
   ]
  },
  {
   "cell_type": "code",
   "execution_count": 19,
   "id": "5cb2e44b-2cc0-4bda-91d9-49485f93ba76",
   "metadata": {
    "tags": []
   },
   "outputs": [
    {
     "name": "stdout",
     "output_type": "stream",
     "text": [
      "/scratch/outputs/NL/predicted_2014-1-31_2014-02-05_NL.nc is saved\n"
     ]
    }
   ],
   "source": [
    "df_features = input_ds.to_dataframe().reset_index().drop(columns=[\"time\", \"longitude\", \"latitude\"])\n",
    "\n",
    "# Convert the nan value as 0 for the calculation\n",
    "df_features = df_features.fillna(0)\n",
    "\n",
    "LEH = model.predict(df_features)\n",
    "\n",
    "output_ds = arr_to_ds(LEH, input_ds, output_vars)\n",
    "\n",
    "# save data\n",
    "out_path = f\"{parent_out_path}/predicted_{start_time}_{end_time}_NL.nc\"\n",
    "output_ds.to_netcdf(out_path, mode='w')\n",
    "print(f\"{out_path} is saved\")"
   ]
  },
  {
   "cell_type": "code",
   "execution_count": 20,
   "id": "4c26cf99-90b9-4adf-95b9-edae7000e71e",
   "metadata": {
    "tags": []
   },
   "outputs": [],
   "source": [
    "output_ds = xr.open_dataset(out_path)"
   ]
  },
  {
   "cell_type": "code",
   "execution_count": 21,
   "id": "46280be8-379b-4d2e-ad89-9272beaba838",
   "metadata": {
    "tags": []
   },
   "outputs": [
    {
     "data": {
      "text/plain": [
       "<matplotlib.collections.QuadMesh at 0x7fd1ea5fb190>"
      ]
     },
     "execution_count": 21,
     "metadata": {},
     "output_type": "execute_result"
    },
    {
     "data": {
      "image/png": "[encoded data removed]",
      "text/plain": [
       "<Figure size 640x480 with 2 Axes>"
      ]
     },
     "metadata": {},
     "output_type": "display_data"
    }
   ],
   "source": [
    "output_ds.LEtot.isel(time=2).plot()"
   ]
  },
  {
   "cell_type": "code",
   "execution_count": 22,
   "id": "90ce8699-236d-4d40-a669-35c519850c8f",
   "metadata": {
    "tags": []
   },
   "outputs": [
    {
     "data": {
      "text/plain": [
       "[<matplotlib.lines.Line2D at 0x7fd1e24c10a0>]"
      ]
     },
     "execution_count": 22,
     "metadata": {},
     "output_type": "execute_result"
    },
    {
     "data": {
      "image/png": "[encoded data removed]",
      "text/plain": [
       "<Figure size 640x480 with 1 Axes>"
      ]
     },
     "metadata": {},
     "output_type": "display_data"
    }
   ],
   "source": [
    "output_ds.LEtot.sel(latitude=(52.36),longitude=(4.90), method='nearest').plot()"
   ]
  },
  {
   "cell_type": "code",
   "execution_count": null,
   "id": "5b0c51e1-b379-406a-bf62-71ee435be014",
   "metadata": {},
   "outputs": [],
   "source": []
  }
 ],
 "metadata": {
  "kernelspec": {
   "display_name": "Python 3 (ipykernel)",
   "language": "python",
   "name": "python3"
  },
  "language_info": {
   "codemirror_mode": {
    "name": "ipython",
    "version": 3
   },
   "file_extension": ".py",
   "mimetype": "text/x-python",
   "name": "python",
   "nbconvert_exporter": "python",
   "pygments_lexer": "ipython3",
   "version": "3.9.16"
  }
 },
 "nbformat": 4,
 "nbformat_minor": 5
}
