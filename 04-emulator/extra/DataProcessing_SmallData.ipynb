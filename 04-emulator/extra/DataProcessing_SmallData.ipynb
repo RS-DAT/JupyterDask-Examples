{
 "cells": [
  {
   "cell_type": "markdown",
   "id": "a41cdf89-0657-4dea-ade0-878dbd44316a",
   "metadata": {},
   "source": [
    "### This notebook needs modifications with regards to I/O paths depending on the infra."
   ]
  },
  {
   "cell_type": "code",
   "execution_count": null,
   "id": "ce65669d-f2ec-44a7-b9f6-4b0995e41609",
   "metadata": {},
   "outputs": [],
   "source": [
    "import xarray as xr\n",
    "import numpy as np\n",
    "import pandas as pd\n",
    "from PyStemmusScope import variable_conversion as vc\n",
    "import sys\n",
    "sys.path.append('.')\n",
    "from utils import interpolation, era5land_accumulated_vars, map_landcover_to_igbp, landcover_to_igbp\n",
    "from sklearn.preprocessing import OneHotEncoder\n",
    "\n",
    "start_time = \"2014-1-31\"\n",
    "end_time = \"2014-02-05\"\n",
    "\n",
    "parent_in_path = \"./data\"\n",
    "data_paths = {\"era5land\": f\"{parent_in_path}/NL/era5land_{start_time}_{end_time}_NL.nc\",\n",
    "              \"lai\": f\"{parent_in_path}/NL/lai_{start_time}_{end_time}_NL.nc\",\n",
    "              \"ssm\": f\"{parent_in_path}/NL/ssm_{start_time}_{end_time}_NL.nc\",\n",
    "              \"co2\": f\"{parent_in_path}/NL/co2_{start_time}_{end_time}_NL.nc\",\n",
    "              \"landcover\": f\"{parent_in_path}/NL/landcover_{start_time}_{end_time}_NL.nc\",\n",
    "              \"vcmax\": f\"{parent_in_path}/NL/vcmax_{start_time}_{end_time}_NL.nc\",\n",
    "              \"canopyheight\": f\"{parent_in_path}/NL/canopyheight_{start_time}_{end_time}_NL.nc\",\n",
    "              \"all_data\": f\"{parent_in_path}/NL/all_data_{start_time}_{end_time}_NL.nc\",\n",
    "              \"igbp_table\": f\"{parent_in_path}/auxiliary/lccs_to_igbp_table.csv\",\n",
    "              \"igbp_class\": f\"{parent_in_path}/auxiliary/IGBP11unique.csv\",\n",
    "            }\n",
    "parent_out_path = \"/scratch/outputs/NL\"\n",
    "os.makedirs(parent_out_path, exist_ok=True)"
   ]
  },
  {
   "cell_type": "code",
   "execution_count": null,
   "id": "d1d5c911-ebc3-4200-ad7b-c2e58e1dc9f1",
   "metadata": {},
   "outputs": [],
   "source": [
    "variable_names = {\"lai\": \"LAI\",\n",
    "                  \"ssm\": \"band_data\",\n",
    "                  \"co2\": \"co2\",\n",
    "                  \"canopyheight\": \"__xarray_dataarray_variable__\",\n",
    "                  \"vcmax\": \"__xarray_dataarray_variable__\",\n",
    "                  \"landcover\": \"lccs_class\"}  \n",
    "\n",
    "# interpolation\n",
    "era5land = xr.open_dataset(data_paths[\"era5land\"])\n",
    "other_coords = {\"time\": era5land.time, \"longitude\": era5land.longitude, \"latitude\": era5land.latitude}\n",
    "\n",
    "for name in variable_names:\n",
    "    ds = xr.open_dataset(data_paths[name])\n",
    "    ds_interpolated = interpolation(ds, other_coords)    \n",
    "    era5land[name] = ds_interpolated[variable_names[name]]\n",
    "\n",
    "# save\n",
    "out_path = f\"{parent_out_path}/all_data_{start_time}_{end_time}_NL.nc\"\n",
    "era5land.to_netcdf(out_path, mode='w')\n",
    "print(f\"{out_path} is saved\")"
   ]
  },
  {
   "cell_type": "code",
   "execution_count": null,
   "id": "82ec8e0e-6e1b-423a-8479-ac826623a569",
   "metadata": {},
   "outputs": [],
   "source": [
    "# variable derivation\n",
    "# read data\n",
    "all_data = xr.open_dataset(data_paths[\"all_data\"])\n",
    "\n",
    "# variable calculations\n",
    "all_data = era5land_accumulated_vars(all_data, \"ssrd\", \"Rin\", 3600)\n",
    "all_data = era5land_accumulated_vars(all_data, \"strd\", \"Rli\", 3600)\n",
    "all_data = era5land_accumulated_vars(all_data, \"tp\", \"Precip_msr\", 0.001) # to mm\n",
    "all_data[\"p\"] = all_data[\"sp\"] / 100  # Pa -> hPa\n",
    "all_data[\"Ta\"] = all_data[\"t2m\"] - 273.15  # K -> degC\n",
    "all_data[\"ea\"] = vc.calculate_es(all_data[\"d2m\"] - 273.15)*10 # *10 is for kPa -> hPa\n",
    "all_data[\"u\"] = (all_data[\"u10\"] ** 2 + all_data[\"v10\"] ** 2) ** 0.5\n",
    "all_data[\"ssm\"] = all_data[\"ssm\"] / 1000\n",
    "\n",
    "# convert landcover to IGBP\n",
    "# lookup tables\n",
    "igbp_table = pd.read_csv(data_paths[\"igbp_table\"])\n",
    "igbp_class = pd.read_csv(data_paths[\"igbp_class\"])['0'].unique()\n",
    "\n",
    "# define one hot encoding for IGBP using dask-ml functions\n",
    "encoder = OneHotEncoder(sparse_output=False)\n",
    "\n",
    "# Unsorted categories are not yet supported by dask-ml\n",
    "igbp_stemmus_scope = np.sort(igbp_table[\"IGBP_STEMMUS_SCOPE\"].to_numpy().reshape(-1,1))\n",
    "encoder = encoder.fit(igbp_stemmus_scope)  \n",
    "lookup_table = igbp_table.set_index(\"lccs_class\").T.to_dict('records')[0]\n",
    "\n",
    "ds = landcover_to_igbp(all_data, \"landcover\", encoder, lookup_table, igbp_class)\n",
    "\n",
    "# rename some variables\n",
    "rename_vars = {\"co2\": \"CO2\", \"lai\": \"LAI\", \"canopyheight\": \"hc\", \"ssm\": \"SSM\", \"vcmax\": \"Vcmo\"}\n",
    "ds = ds.rename(rename_vars)\n",
    "\n",
    "# save\n",
    "out_path = f\"{parent_out_path}/model_input_{start_time}_{end_time}_NL.nc\"\n",
    "ds.to_netcdf(out_path, mode='w')\n",
    "print(f\"{out_path} is saved\")"
   ]
  }
 ],
 "metadata": {
  "kernelspec": {
   "display_name": "Python 3 (ipykernel)",
   "language": "python",
   "name": "python3"
  },
  "language_info": {
   "codemirror_mode": {
    "name": "ipython",
    "version": 3
   },
   "file_extension": ".py",
   "mimetype": "text/x-python",
   "name": "python",
   "nbconvert_exporter": "python",
   "pygments_lexer": "ipython3",
   "version": "3.9.16"
  }
 },
 "nbformat": 4,
 "nbformat_minor": 5
}
