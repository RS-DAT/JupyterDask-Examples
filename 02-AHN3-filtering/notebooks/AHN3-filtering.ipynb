{
 "cells": [
  {
   "cell_type": "code",
   "execution_count": 1,
   "id": "7af186ec-74c0-422d-a6b6-a216d912fe05",
   "metadata": {},
   "outputs": [
    {
     "name": "stderr",
     "output_type": "stream",
     "text": [
      "ERROR 1: PROJ: proj_create_from_database: Open of /opt/conda/envs/jupyterdask/share/proj failed\n"
     ]
    }
   ],
   "source": [
    "import os\n",
    "\n",
    "import dask.dataframe as dd\n",
    "import dask_geopandas\n",
    "import dcachefs\n",
    "import fsspec\n",
    "import laspy\n",
    "import numpy as np\n",
    "import pandas as pd\n",
    "\n",
    "from dask.delayed import delayed"
   ]
  },
  {
   "cell_type": "code",
   "execution_count": 2,
   "id": "0d95c5f1-2974-4e82-ab53-45ffb9f669c0",
   "metadata": {},
   "outputs": [],
   "source": [
    "from dask.distributed import Client\n",
    "client = Client(\"localhost:8786\")"
   ]
  },
  {
   "cell_type": "code",
   "execution_count": 3,
   "id": "21419b28-bf23-4585-943e-fc0e88b1ac49",
   "metadata": {},
   "outputs": [],
   "source": [
    "laz_file = \"dcache://pnfs/grid.sara.nl/data/projects.nl/eecolidar/01_Escience/ALS/Netherlands/ahn3_current/ahn3_current_TOP10NL_ud20200323/C_25GN1.LAZ\"\n",
    "chunk_size = 100 * 2**20  # 1 GB"
   ]
  },
  {
   "cell_type": "code",
   "execution_count": 4,
   "id": "957f7aac-e3f8-41b5-9590-0df40e5e6291",
   "metadata": {},
   "outputs": [
    {
     "data": {
      "text/plain": [
       "2.508162605576217"
      ]
     },
     "execution_count": 4,
     "metadata": {},
     "output_type": "execute_result"
    }
   ],
   "source": [
    "# ~2.5 GB compressed -> ~20 GB\n",
    "fs = fsspec.get_filesystem_class(\"dcache\")()\n",
    "fs.du(laz_file) / 2**30 "
   ]
  },
  {
   "cell_type": "code",
   "execution_count": 5,
   "id": "6e22aec5-0667-4402-afac-7ab5db4405b7",
   "metadata": {},
   "outputs": [],
   "source": [
    "@delayed\n",
    "def read_chunk_from_laz_file(urlpath, offset, n_points):\n",
    "    \"\"\"\" Read chunk from LAZ file and return it as a DataFrame. \"\"\"\n",
    "    import dcachefs\n",
    "    with fsspec.open(urlpath, mode=\"rb\", block_size=2**20) as f:\n",
    "        with laspy.open(f) as las_file:\n",
    "            las_file.seek(offset)\n",
    "            points = las_file.read_points(n_points)\n",
    "    df = pd.DataFrame.from_records(points.array)\n",
    "    df[[\"X\", \"Y\", \"Z\"]] = las_file.header.offsets + \\\n",
    "        df[[\"X\", \"Y\", \"Z\"]] * las_file.header.scales\n",
    "    return df"
   ]
  },
  {
   "cell_type": "code",
   "execution_count": 6,
   "id": "fd73969f-5fad-48f6-92a0-3d078289b8f2",
   "metadata": {},
   "outputs": [],
   "source": [
    "def read_laz(urlpath, chunk_size):\n",
    "    \"\"\" Read LAZ file as a delayed Dask dataframe. \"\"\"\n",
    "    with fsspec.open(urlpath, mode=\"rb\", block_size=2**20) as f:\n",
    "        with laspy.open(f) as las_file:\n",
    "            dtype = las_file.header.point_format.dtype()\n",
    "            n_points = las_file.header.point_count\n",
    "    meta = {\n",
    "        k: v[0] if k not in [\"X\", \"Y\", \"Z\"] else np.dtype(\"float64\")\n",
    "        for k, v in dtype.fields.items()\n",
    "    }\n",
    "    nbytes_per_point = sum([v.itemsize for v in meta.values()])\n",
    "    points_per_partition = chunk_size // nbytes_per_point \n",
    "    dfs = [\n",
    "        read_chunk_from_laz_file(\n",
    "            urlpath, \n",
    "            offset=offset, \n",
    "            n_points=points_per_partition, \n",
    "        ) \n",
    "        for offset in range(0, n_points, points_per_partition)\n",
    "    ]\n",
    "    return dd.from_delayed(dfs, meta=meta)"
   ]
  },
  {
   "cell_type": "code",
   "execution_count": 7,
   "id": "e6af7ebc-bcb1-4816-a72f-ca34873d7d7b",
   "metadata": {},
   "outputs": [
    {
     "data": {
      "text/html": [
       "<div><strong>Dask DataFrame Structure:</strong></div>\n",
       "<div>\n",
       "<style scoped>\n",
       "    .dataframe tbody tr th:only-of-type {\n",
       "        vertical-align: middle;\n",
       "    }\n",
       "\n",
       "    .dataframe tbody tr th {\n",
       "        vertical-align: top;\n",
       "    }\n",
       "\n",
       "    .dataframe thead th {\n",
       "        text-align: right;\n",
       "    }\n",
       "</style>\n",
       "<table border=\"1\" class=\"dataframe\">\n",
       "  <thead>\n",
       "    <tr style=\"text-align: right;\">\n",
       "      <th></th>\n",
       "      <th>X</th>\n",
       "      <th>Y</th>\n",
       "      <th>Z</th>\n",
       "      <th>intensity</th>\n",
       "      <th>bit_fields</th>\n",
       "      <th>raw_classification</th>\n",
       "      <th>scan_angle_rank</th>\n",
       "      <th>user_data</th>\n",
       "      <th>point_source_id</th>\n",
       "      <th>gps_time</th>\n",
       "    </tr>\n",
       "    <tr>\n",
       "      <th>npartitions=202</th>\n",
       "      <th></th>\n",
       "      <th></th>\n",
       "      <th></th>\n",
       "      <th></th>\n",
       "      <th></th>\n",
       "      <th></th>\n",
       "      <th></th>\n",
       "      <th></th>\n",
       "      <th></th>\n",
       "      <th></th>\n",
       "    </tr>\n",
       "  </thead>\n",
       "  <tbody>\n",
       "    <tr>\n",
       "      <th></th>\n",
       "      <td>float64</td>\n",
       "      <td>float64</td>\n",
       "      <td>float64</td>\n",
       "      <td>uint16</td>\n",
       "      <td>uint8</td>\n",
       "      <td>uint8</td>\n",
       "      <td>int8</td>\n",
       "      <td>uint8</td>\n",
       "      <td>uint16</td>\n",
       "      <td>float64</td>\n",
       "    </tr>\n",
       "    <tr>\n",
       "      <th></th>\n",
       "      <td>...</td>\n",
       "      <td>...</td>\n",
       "      <td>...</td>\n",
       "      <td>...</td>\n",
       "      <td>...</td>\n",
       "      <td>...</td>\n",
       "      <td>...</td>\n",
       "      <td>...</td>\n",
       "      <td>...</td>\n",
       "      <td>...</td>\n",
       "    </tr>\n",
       "    <tr>\n",
       "      <th>...</th>\n",
       "      <td>...</td>\n",
       "      <td>...</td>\n",
       "      <td>...</td>\n",
       "      <td>...</td>\n",
       "      <td>...</td>\n",
       "      <td>...</td>\n",
       "      <td>...</td>\n",
       "      <td>...</td>\n",
       "      <td>...</td>\n",
       "      <td>...</td>\n",
       "    </tr>\n",
       "    <tr>\n",
       "      <th></th>\n",
       "      <td>...</td>\n",
       "      <td>...</td>\n",
       "      <td>...</td>\n",
       "      <td>...</td>\n",
       "      <td>...</td>\n",
       "      <td>...</td>\n",
       "      <td>...</td>\n",
       "      <td>...</td>\n",
       "      <td>...</td>\n",
       "      <td>...</td>\n",
       "    </tr>\n",
       "    <tr>\n",
       "      <th></th>\n",
       "      <td>...</td>\n",
       "      <td>...</td>\n",
       "      <td>...</td>\n",
       "      <td>...</td>\n",
       "      <td>...</td>\n",
       "      <td>...</td>\n",
       "      <td>...</td>\n",
       "      <td>...</td>\n",
       "      <td>...</td>\n",
       "      <td>...</td>\n",
       "    </tr>\n",
       "  </tbody>\n",
       "</table>\n",
       "</div>\n",
       "<div>Dask Name: from-delayed, 404 tasks</div>"
      ],
      "text/plain": [
       "Dask DataFrame Structure:\n",
       "                       X        Y        Z intensity bit_fields raw_classification scan_angle_rank user_data point_source_id gps_time\n",
       "npartitions=202                                                                                                                      \n",
       "                 float64  float64  float64    uint16      uint8              uint8            int8     uint8          uint16  float64\n",
       "                     ...      ...      ...       ...        ...                ...             ...       ...             ...      ...\n",
       "...                  ...      ...      ...       ...        ...                ...             ...       ...             ...      ...\n",
       "                     ...      ...      ...       ...        ...                ...             ...       ...             ...      ...\n",
       "                     ...      ...      ...       ...        ...                ...             ...       ...             ...      ...\n",
       "Dask Name: from-delayed, 404 tasks"
      ]
     },
     "execution_count": 7,
     "metadata": {},
     "output_type": "execute_result"
    }
   ],
   "source": [
    "ddf = read_laz(laz_file, chunk_size)\n",
    "ddf"
   ]
  },
  {
   "cell_type": "code",
   "execution_count": 8,
   "id": "e7579442-bc66-46d8-809c-db65a0775d98",
   "metadata": {},
   "outputs": [
    {
     "data": {
      "text/plain": [
       "Dask GeoSeries Structure:\n",
       "npartitions=202\n",
       "    geometry\n",
       "         ...\n",
       "      ...   \n",
       "         ...\n",
       "         ...\n",
       "dtype: geometry\n",
       "Dask Name: points_from_xy, 606 tasks"
      ]
     },
     "execution_count": 8,
     "metadata": {},
     "output_type": "execute_result"
    }
   ],
   "source": [
    "geometry = dask_geopandas.points_from_xy(ddf, x=\"X\", y=\"Y\")\n",
    "geometry"
   ]
  },
  {
   "cell_type": "code",
   "execution_count": 9,
   "id": "30386f99-a06d-4440-9e74-11157cbd7025",
   "metadata": {},
   "outputs": [
    {
     "data": {
      "text/html": [
       "<div><strong>Dask-GeoPandas GeoDataFrame Structure:</strong></div>\n",
       "<div>\n",
       "<style scoped>\n",
       "    .dataframe tbody tr th:only-of-type {\n",
       "        vertical-align: middle;\n",
       "    }\n",
       "\n",
       "    .dataframe tbody tr th {\n",
       "        vertical-align: top;\n",
       "    }\n",
       "\n",
       "    .dataframe thead th {\n",
       "        text-align: right;\n",
       "    }\n",
       "</style>\n",
       "<table border=\"1\" class=\"dataframe\">\n",
       "  <thead>\n",
       "    <tr style=\"text-align: right;\">\n",
       "      <th></th>\n",
       "      <th>X</th>\n",
       "      <th>Y</th>\n",
       "      <th>Z</th>\n",
       "      <th>intensity</th>\n",
       "      <th>bit_fields</th>\n",
       "      <th>raw_classification</th>\n",
       "      <th>scan_angle_rank</th>\n",
       "      <th>user_data</th>\n",
       "      <th>point_source_id</th>\n",
       "      <th>gps_time</th>\n",
       "      <th>geometry</th>\n",
       "    </tr>\n",
       "    <tr>\n",
       "      <th>npartitions=202</th>\n",
       "      <th></th>\n",
       "      <th></th>\n",
       "      <th></th>\n",
       "      <th></th>\n",
       "      <th></th>\n",
       "      <th></th>\n",
       "      <th></th>\n",
       "      <th></th>\n",
       "      <th></th>\n",
       "      <th></th>\n",
       "      <th></th>\n",
       "    </tr>\n",
       "  </thead>\n",
       "  <tbody>\n",
       "    <tr>\n",
       "      <th></th>\n",
       "      <td>float64</td>\n",
       "      <td>float64</td>\n",
       "      <td>float64</td>\n",
       "      <td>uint16</td>\n",
       "      <td>uint8</td>\n",
       "      <td>uint8</td>\n",
       "      <td>int8</td>\n",
       "      <td>uint8</td>\n",
       "      <td>uint16</td>\n",
       "      <td>float64</td>\n",
       "      <td>geometry</td>\n",
       "    </tr>\n",
       "    <tr>\n",
       "      <th></th>\n",
       "      <td>...</td>\n",
       "      <td>...</td>\n",
       "      <td>...</td>\n",
       "      <td>...</td>\n",
       "      <td>...</td>\n",
       "      <td>...</td>\n",
       "      <td>...</td>\n",
       "      <td>...</td>\n",
       "      <td>...</td>\n",
       "      <td>...</td>\n",
       "      <td>...</td>\n",
       "    </tr>\n",
       "    <tr>\n",
       "      <th>...</th>\n",
       "      <td>...</td>\n",
       "      <td>...</td>\n",
       "      <td>...</td>\n",
       "      <td>...</td>\n",
       "      <td>...</td>\n",
       "      <td>...</td>\n",
       "      <td>...</td>\n",
       "      <td>...</td>\n",
       "      <td>...</td>\n",
       "      <td>...</td>\n",
       "      <td>...</td>\n",
       "    </tr>\n",
       "    <tr>\n",
       "      <th></th>\n",
       "      <td>...</td>\n",
       "      <td>...</td>\n",
       "      <td>...</td>\n",
       "      <td>...</td>\n",
       "      <td>...</td>\n",
       "      <td>...</td>\n",
       "      <td>...</td>\n",
       "      <td>...</td>\n",
       "      <td>...</td>\n",
       "      <td>...</td>\n",
       "      <td>...</td>\n",
       "    </tr>\n",
       "    <tr>\n",
       "      <th></th>\n",
       "      <td>...</td>\n",
       "      <td>...</td>\n",
       "      <td>...</td>\n",
       "      <td>...</td>\n",
       "      <td>...</td>\n",
       "      <td>...</td>\n",
       "      <td>...</td>\n",
       "      <td>...</td>\n",
       "      <td>...</td>\n",
       "      <td>...</td>\n",
       "      <td>...</td>\n",
       "    </tr>\n",
       "  </tbody>\n",
       "</table>\n",
       "</div>\n",
       "<div>Dask Name: GeoDataFrame, 1010 tasks</div>"
      ],
      "text/plain": [
       "Dask GeoDataFrame Structure:\n",
       "                       X        Y        Z intensity bit_fields raw_classification scan_angle_rank user_data point_source_id gps_time  geometry\n",
       "npartitions=202                                                                                                                                \n",
       "                 float64  float64  float64    uint16      uint8              uint8            int8     uint8          uint16  float64  geometry\n",
       "                     ...      ...      ...       ...        ...                ...             ...       ...             ...      ...       ...\n",
       "...                  ...      ...      ...       ...        ...                ...             ...       ...             ...      ...       ...\n",
       "                     ...      ...      ...       ...        ...                ...             ...       ...             ...      ...       ...\n",
       "                     ...      ...      ...       ...        ...                ...             ...       ...             ...      ...       ...\n",
       "Dask Name: GeoDataFrame, 1010 tasks"
      ]
     },
     "execution_count": 9,
     "metadata": {},
     "output_type": "execute_result"
    }
   ],
   "source": [
    "ddf[\"geometry\"] = geometry\n",
    "dgdf = dask_geopandas.from_dask_dataframe(ddf, geometry=\"geometry\")\n",
    "dgdf"
   ]
  },
  {
   "cell_type": "code",
   "execution_count": 10,
   "id": "fcad45cc-dde7-41aa-9ff8-9fc3c9f518f5",
   "metadata": {},
   "outputs": [],
   "source": [
    "# add coordinate reference system\n",
    "dgdf = dgdf.set_crs(\"EPSG:28992\")"
   ]
  },
  {
   "cell_type": "code",
   "execution_count": 11,
   "id": "a9236087-03ae-48b9-b3f3-254d056f78a7",
   "metadata": {},
   "outputs": [],
   "source": [
    "# sample fraction of points\n",
    "sample = dgdf.sample(frac=0.0001)"
   ]
  },
  {
   "cell_type": "code",
   "execution_count": 12,
   "id": "b3eace06-ddc8-41d7-9200-6857e37097b7",
   "metadata": {},
   "outputs": [],
   "source": [
    "# pull result to client\n",
    "res = sample.compute()"
   ]
  }
 ],
 "metadata": {
  "kernelspec": {
   "display_name": "Python 3 (ipykernel)",
   "language": "python",
   "name": "python3"
  },
  "language_info": {
   "codemirror_mode": {
    "name": "ipython",
    "version": 3
   },
   "file_extension": ".py",
   "mimetype": "text/x-python",
   "name": "python",
   "nbconvert_exporter": "python",
   "pygments_lexer": "ipython3",
   "version": "3.9.12"
  }
 },
 "nbformat": 4,
 "nbformat_minor": 5
}
